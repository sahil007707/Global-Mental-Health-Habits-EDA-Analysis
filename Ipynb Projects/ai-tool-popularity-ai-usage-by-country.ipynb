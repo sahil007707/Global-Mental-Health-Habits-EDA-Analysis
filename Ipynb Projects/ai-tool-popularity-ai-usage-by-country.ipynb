{
 "cells": [
  {
   "cell_type": "code",
   "execution_count": 1,
   "id": "ecd4d2af",
   "metadata": {
    "_cell_guid": "b1076dfc-b9ad-4769-8c92-a6c4dae69d19",
    "_uuid": "8f2839f25d086af736a60e9eeb907d3b93b6e0e5",
    "execution": {
     "iopub.execute_input": "2025-06-17T11:00:42.707603Z",
     "iopub.status.busy": "2025-06-17T11:00:42.707271Z",
     "iopub.status.idle": "2025-06-17T11:00:44.517831Z",
     "shell.execute_reply": "2025-06-17T11:00:44.516758Z"
    },
    "papermill": {
     "duration": 1.816367,
     "end_time": "2025-06-17T11:00:44.519379",
     "exception": false,
     "start_time": "2025-06-17T11:00:42.703012",
     "status": "completed"
    },
    "tags": []
   },
   "outputs": [
    {
     "name": "stdout",
     "output_type": "stream",
     "text": [
      "/kaggle/input/inside-teen-minds-global-mental-health-and-habits/modern_teen_mental_health_main.csv\n",
      "/kaggle/input/inside-teen-minds-global-mental-health-and-habits/wellness_habits_distribution.csv\n",
      "/kaggle/input/inside-teen-minds-global-mental-health-and-habits/ai_tool_popularity.csv\n",
      "/kaggle/input/inside-teen-minds-global-mental-health-and-habits/ai_usage_by_country.csv\n",
      "/kaggle/input/inside-teen-minds-global-mental-health-and-habits/average_support_feeling_by_country.csv\n",
      "/kaggle/input/inside-teen-minds-global-mental-health-and-habits/average_mood_stress_by_gender.csv\n",
      "/kaggle/input/inside-teen-minds-global-mental-health-and-habits/daily_mood_stress_trends.csv\n",
      "/kaggle/input/inside-teen-minds-global-mental-health-and-habits/screen_vs_sleep_by_age.csv\n"
     ]
    }
   ],
   "source": [
    "# This Python 3 environment comes with many helpful analytics libraries installed\n",
    "# It is defined by the kaggle/python Docker image: https://github.com/kaggle/docker-python\n",
    "# For example, here's several helpful packages to load\n",
    "\n",
    "import numpy as np # linear algebra\n",
    "import pandas as pd # data processing, CSV file I/O (e.g. pd.read_csv)\n",
    "\n",
    "# Input data files are available in the read-only \"../input/\" directory\n",
    "# For example, running this (by clicking run or pressing Shift+Enter) will list all files under the input directory\n",
    "\n",
    "import os\n",
    "for dirname, _, filenames in os.walk('/kaggle/input'):\n",
    "    for filename in filenames:\n",
    "        print(os.path.join(dirname, filename))\n",
    "\n",
    "# You can write up to 20GB to the current directory (/kaggle/working/) that gets preserved as output when you create a version using \"Save & Run All\" \n",
    "# You can also write temporary files to /kaggle/temp/, but they won't be saved outside of the current session"
   ]
  },
  {
   "cell_type": "markdown",
   "id": "e1849f45",
   "metadata": {
    "papermill": {
     "duration": 0.002446,
     "end_time": "2025-06-17T11:00:44.525171",
     "exception": false,
     "start_time": "2025-06-17T11:00:44.522725",
     "status": "completed"
    },
    "tags": []
   },
   "source": [
    "# Project\n",
    "## AI Tool Popularity & AI Usage By Country"
   ]
  },
  {
   "cell_type": "markdown",
   "id": "cb111222",
   "metadata": {
    "papermill": {
     "duration": 0.00234,
     "end_time": "2025-06-17T11:00:44.530169",
     "exception": false,
     "start_time": "2025-06-17T11:00:44.527829",
     "status": "completed"
    },
    "tags": []
   },
   "source": [
    "### Importing Libraries"
   ]
  },
  {
   "cell_type": "code",
   "execution_count": 2,
   "id": "26641ecf",
   "metadata": {
    "execution": {
     "iopub.execute_input": "2025-06-17T11:00:44.536992Z",
     "iopub.status.busy": "2025-06-17T11:00:44.536182Z",
     "iopub.status.idle": "2025-06-17T11:00:46.214408Z",
     "shell.execute_reply": "2025-06-17T11:00:46.213752Z"
    },
    "papermill": {
     "duration": 1.68327,
     "end_time": "2025-06-17T11:00:46.215956",
     "exception": false,
     "start_time": "2025-06-17T11:00:44.532686",
     "status": "completed"
    },
    "tags": []
   },
   "outputs": [],
   "source": [
    "import pandas as pd\n",
    "import seaborn as sns\n",
    "import matplotlib.pyplot as plt"
   ]
  },
  {
   "cell_type": "code",
   "execution_count": 3,
   "id": "a1f3f876",
   "metadata": {
    "execution": {
     "iopub.execute_input": "2025-06-17T11:00:46.222670Z",
     "iopub.status.busy": "2025-06-17T11:00:46.222014Z",
     "iopub.status.idle": "2025-06-17T11:00:46.249135Z",
     "shell.execute_reply": "2025-06-17T11:00:46.248377Z"
    },
    "papermill": {
     "duration": 0.032026,
     "end_time": "2025-06-17T11:00:46.250735",
     "exception": false,
     "start_time": "2025-06-17T11:00:46.218709",
     "status": "completed"
    },
    "tags": []
   },
   "outputs": [],
   "source": [
    "df=pd.read_csv(r\"/kaggle/input/inside-teen-minds-global-mental-health-and-habits/ai_tool_popularity.csv\")"
   ]
  },
  {
   "cell_type": "code",
   "execution_count": 4,
   "id": "6f6cbec9",
   "metadata": {
    "execution": {
     "iopub.execute_input": "2025-06-17T11:00:46.257256Z",
     "iopub.status.busy": "2025-06-17T11:00:46.256999Z",
     "iopub.status.idle": "2025-06-17T11:00:46.462619Z",
     "shell.execute_reply": "2025-06-17T11:00:46.461562Z"
    },
    "papermill": {
     "duration": 0.211107,
     "end_time": "2025-06-17T11:00:46.464627",
     "exception": false,
     "start_time": "2025-06-17T11:00:46.253520",
     "status": "completed"
    },
    "tags": []
   },
   "outputs": [
    {
     "data": {
      "text/html": [
       "<style type=\"text/css\">\n",
       "#T_035c5_row0_col1 {\n",
       "  background-color: #7f2704;\n",
       "  color: #f1f1f1;\n",
       "}\n",
       "#T_035c5_row1_col1 {\n",
       "  background-color: #cd4401;\n",
       "  color: #f1f1f1;\n",
       "}\n",
       "#T_035c5_row2_col1 {\n",
       "  background-color: #fc8937;\n",
       "  color: #f1f1f1;\n",
       "}\n",
       "#T_035c5_row3_col1 {\n",
       "  background-color: #fd9a4e;\n",
       "  color: #000000;\n",
       "}\n",
       "#T_035c5_row4_col1 {\n",
       "  background-color: #feeddc;\n",
       "  color: #000000;\n",
       "}\n",
       "#T_035c5_row5_col1 {\n",
       "  background-color: #fff5eb;\n",
       "  color: #000000;\n",
       "}\n",
       "</style>\n",
       "<table id=\"T_035c5\">\n",
       "  <thead>\n",
       "    <tr>\n",
       "      <th class=\"blank level0\" >&nbsp;</th>\n",
       "      <th id=\"T_035c5_level0_col0\" class=\"col_heading level0 col0\" >ai_tool</th>\n",
       "      <th id=\"T_035c5_level0_col1\" class=\"col_heading level0 col1\" >usage_count</th>\n",
       "    </tr>\n",
       "  </thead>\n",
       "  <tbody>\n",
       "    <tr>\n",
       "      <th id=\"T_035c5_level0_row0\" class=\"row_heading level0 row0\" >0</th>\n",
       "      <td id=\"T_035c5_row0_col0\" class=\"data row0 col0\" >Gemini</td>\n",
       "      <td id=\"T_035c5_row0_col1\" class=\"data row0 col1\" >3075</td>\n",
       "    </tr>\n",
       "    <tr>\n",
       "      <th id=\"T_035c5_level0_row1\" class=\"row_heading level0 row1\" >1</th>\n",
       "      <td id=\"T_035c5_row1_col0\" class=\"data row1 col0\" >EduChat</td>\n",
       "      <td id=\"T_035c5_row1_col1\" class=\"data row1 col1\" >3043</td>\n",
       "    </tr>\n",
       "    <tr>\n",
       "      <th id=\"T_035c5_level0_row2\" class=\"row_heading level0 row2\" >2</th>\n",
       "      <td id=\"T_035c5_row2_col0\" class=\"data row2 col0\" >ChatGPT</td>\n",
       "      <td id=\"T_035c5_row2_col1\" class=\"data row2 col1\" >3005</td>\n",
       "    </tr>\n",
       "    <tr>\n",
       "      <th id=\"T_035c5_level0_row3\" class=\"row_heading level0 row3\" >3</th>\n",
       "      <td id=\"T_035c5_row3_col0\" class=\"data row3 col0\" >Notion AI</td>\n",
       "      <td id=\"T_035c5_row3_col1\" class=\"data row3 col1\" >2996</td>\n",
       "    </tr>\n",
       "    <tr>\n",
       "      <th id=\"T_035c5_level0_row4\" class=\"row_heading level0 row4\" >4</th>\n",
       "      <td id=\"T_035c5_row4_col0\" class=\"data row4 col0\" >Phind</td>\n",
       "      <td id=\"T_035c5_row4_col1\" class=\"data row4 col1\" >2941</td>\n",
       "    </tr>\n",
       "    <tr>\n",
       "      <th id=\"T_035c5_level0_row5\" class=\"row_heading level0 row5\" >5</th>\n",
       "      <td id=\"T_035c5_row5_col0\" class=\"data row5 col0\" >Grammarly</td>\n",
       "      <td id=\"T_035c5_row5_col1\" class=\"data row5 col1\" >2931</td>\n",
       "    </tr>\n",
       "  </tbody>\n",
       "</table>\n"
      ],
      "text/plain": [
       "<pandas.io.formats.style.Styler at 0x7d12b4302ed0>"
      ]
     },
     "execution_count": 4,
     "metadata": {},
     "output_type": "execute_result"
    }
   ],
   "source": [
    "df.style.background_gradient(cmap=\"Oranges\")"
   ]
  },
  {
   "cell_type": "code",
   "execution_count": 5,
   "id": "9464e39a",
   "metadata": {
    "execution": {
     "iopub.execute_input": "2025-06-17T11:00:46.477032Z",
     "iopub.status.busy": "2025-06-17T11:00:46.476158Z",
     "iopub.status.idle": "2025-06-17T11:00:46.483247Z",
     "shell.execute_reply": "2025-06-17T11:00:46.482462Z"
    },
    "papermill": {
     "duration": 0.014743,
     "end_time": "2025-06-17T11:00:46.484991",
     "exception": false,
     "start_time": "2025-06-17T11:00:46.470248",
     "status": "completed"
    },
    "tags": []
   },
   "outputs": [
    {
     "data": {
      "text/plain": [
       "(6, 2)"
      ]
     },
     "execution_count": 5,
     "metadata": {},
     "output_type": "execute_result"
    }
   ],
   "source": [
    "df.shape"
   ]
  },
  {
   "cell_type": "code",
   "execution_count": 6,
   "id": "5590a57c",
   "metadata": {
    "execution": {
     "iopub.execute_input": "2025-06-17T11:00:46.497185Z",
     "iopub.status.busy": "2025-06-17T11:00:46.496790Z",
     "iopub.status.idle": "2025-06-17T11:00:46.870176Z",
     "shell.execute_reply": "2025-06-17T11:00:46.869286Z"
    },
    "papermill": {
     "duration": 0.380849,
     "end_time": "2025-06-17T11:00:46.871708",
     "exception": false,
     "start_time": "2025-06-17T11:00:46.490859",
     "status": "completed"
    },
    "tags": []
   },
   "outputs": [
    {
     "data": {
      "image/png": "[encoded data removed]",
      "text/plain": [
       "<Figure size 1200x600 with 1 Axes>"
      ]
     },
     "metadata": {},
     "output_type": "display_data"
    }
   ],
   "source": [
    "plt.figure(figsize=(12,6))\n",
    "sns.set_style(\"whitegrid\")\n",
    "sns.barplot(data=df,x=\"ai_tool\",y=\"usage_count\",palette=\"Set1\",edgecolor=\"black\")\n",
    "plt.title(\"AI Tools Popularity And Usage Count\",size=15)\n",
    "plt.xlabel(\"AI Tools\",size=13)\n",
    "plt.ylabel(\"Usage Count\",size=13)\n",
    "plt.tight_layout()\n",
    "plt.show()"
   ]
  },
  {
   "cell_type": "code",
   "execution_count": 7,
   "id": "33f4c309",
   "metadata": {
    "execution": {
     "iopub.execute_input": "2025-06-17T11:00:46.879667Z",
     "iopub.status.busy": "2025-06-17T11:00:46.879350Z",
     "iopub.status.idle": "2025-06-17T11:00:46.890539Z",
     "shell.execute_reply": "2025-06-17T11:00:46.889895Z"
    },
    "papermill": {
     "duration": 0.016789,
     "end_time": "2025-06-17T11:00:46.892013",
     "exception": false,
     "start_time": "2025-06-17T11:00:46.875224",
     "status": "completed"
    },
    "tags": []
   },
   "outputs": [],
   "source": [
    "dfx=pd.read_csv(r\"/kaggle/input/inside-teen-minds-global-mental-health-and-habits/ai_usage_by_country.csv\")"
   ]
  },
  {
   "cell_type": "code",
   "execution_count": 8,
   "id": "bfed2021",
   "metadata": {
    "execution": {
     "iopub.execute_input": "2025-06-17T11:00:46.900865Z",
     "iopub.status.busy": "2025-06-17T11:00:46.900194Z",
     "iopub.status.idle": "2025-06-17T11:00:46.911283Z",
     "shell.execute_reply": "2025-06-17T11:00:46.910468Z"
    },
    "papermill": {
     "duration": 0.016766,
     "end_time": "2025-06-17T11:00:46.912715",
     "exception": false,
     "start_time": "2025-06-17T11:00:46.895949",
     "status": "completed"
    },
    "tags": []
   },
   "outputs": [
    {
     "data": {
      "text/html": [
       "<style type=\"text/css\">\n",
       "#T_88827_row0_col1 {\n",
       "  background-color: #fc8666;\n",
       "  color: #f1f1f1;\n",
       "}\n",
       "#T_88827_row1_col1 {\n",
       "  background-color: #fff0e9;\n",
       "  color: #000000;\n",
       "}\n",
       "#T_88827_row2_col1 {\n",
       "  background-color: #ee3a2c;\n",
       "  color: #f1f1f1;\n",
       "}\n",
       "#T_88827_row3_col1 {\n",
       "  background-color: #fc8d6d;\n",
       "  color: #f1f1f1;\n",
       "}\n",
       "#T_88827_row4_col1 {\n",
       "  background-color: #fc9e80;\n",
       "  color: #000000;\n",
       "}\n",
       "#T_88827_row5_col1 {\n",
       "  background-color: #fff5f0;\n",
       "  color: #000000;\n",
       "}\n",
       "#T_88827_row6_col1 {\n",
       "  background-color: #fc9b7c;\n",
       "  color: #000000;\n",
       "}\n",
       "#T_88827_row7_col1 {\n",
       "  background-color: #67000d;\n",
       "  color: #f1f1f1;\n",
       "}\n",
       "</style>\n",
       "<table id=\"T_88827\">\n",
       "  <thead>\n",
       "    <tr>\n",
       "      <th class=\"blank level0\" >&nbsp;</th>\n",
       "      <th id=\"T_88827_level0_col0\" class=\"col_heading level0 col0\" >country</th>\n",
       "      <th id=\"T_88827_level0_col1\" class=\"col_heading level0 col1\" >ai_user_count</th>\n",
       "    </tr>\n",
       "  </thead>\n",
       "  <tbody>\n",
       "    <tr>\n",
       "      <th id=\"T_88827_level0_row0\" class=\"row_heading level0 row0\" >0</th>\n",
       "      <td id=\"T_88827_row0_col0\" class=\"data row0 col0\" >Australia</td>\n",
       "      <td id=\"T_88827_row0_col1\" class=\"data row0 col1\" >2264</td>\n",
       "    </tr>\n",
       "    <tr>\n",
       "      <th id=\"T_88827_level0_row1\" class=\"row_heading level0 row1\" >1</th>\n",
       "      <td id=\"T_88827_row1_col0\" class=\"data row1 col0\" >Brazil</td>\n",
       "      <td id=\"T_88827_row1_col1\" class=\"data row1 col1\" >1968</td>\n",
       "    </tr>\n",
       "    <tr>\n",
       "      <th id=\"T_88827_level0_row2\" class=\"row_heading level0 row2\" >2</th>\n",
       "      <td id=\"T_88827_row2_col0\" class=\"data row2 col0\" >Canada</td>\n",
       "      <td id=\"T_88827_row2_col1\" class=\"data row2 col1\" >2430</td>\n",
       "    </tr>\n",
       "    <tr>\n",
       "      <th id=\"T_88827_level0_row3\" class=\"row_heading level0 row3\" >3</th>\n",
       "      <td id=\"T_88827_row3_col0\" class=\"data row3 col0\" >Germany</td>\n",
       "      <td id=\"T_88827_row3_col1\" class=\"data row3 col1\" >2247</td>\n",
       "    </tr>\n",
       "    <tr>\n",
       "      <th id=\"T_88827_level0_row4\" class=\"row_heading level0 row4\" >4</th>\n",
       "      <td id=\"T_88827_row4_col0\" class=\"data row4 col0\" >India</td>\n",
       "      <td id=\"T_88827_row4_col1\" class=\"data row4 col1\" >2205</td>\n",
       "    </tr>\n",
       "    <tr>\n",
       "      <th id=\"T_88827_level0_row5\" class=\"row_heading level0 row5\" >5</th>\n",
       "      <td id=\"T_88827_row5_col0\" class=\"data row5 col0\" >Japan</td>\n",
       "      <td id=\"T_88827_row5_col1\" class=\"data row5 col1\" >1944</td>\n",
       "    </tr>\n",
       "    <tr>\n",
       "      <th id=\"T_88827_level0_row6\" class=\"row_heading level0 row6\" >6</th>\n",
       "      <td id=\"T_88827_row6_col0\" class=\"data row6 col0\" >UK</td>\n",
       "      <td id=\"T_88827_row6_col1\" class=\"data row6 col1\" >2214</td>\n",
       "    </tr>\n",
       "    <tr>\n",
       "      <th id=\"T_88827_level0_row7\" class=\"row_heading level0 row7\" >7</th>\n",
       "      <td id=\"T_88827_row7_col0\" class=\"data row7 col0\" >USA</td>\n",
       "      <td id=\"T_88827_row7_col1\" class=\"data row7 col1\" >2719</td>\n",
       "    </tr>\n",
       "  </tbody>\n",
       "</table>\n"
      ],
      "text/plain": [
       "<pandas.io.formats.style.Styler at 0x7d12b39ea110>"
      ]
     },
     "execution_count": 8,
     "metadata": {},
     "output_type": "execute_result"
    }
   ],
   "source": [
    "dfx.style.background_gradient(cmap=\"Reds\")"
   ]
  },
  {
   "cell_type": "code",
   "execution_count": 9,
   "id": "400f26a2",
   "metadata": {
    "execution": {
     "iopub.execute_input": "2025-06-17T11:00:46.921334Z",
     "iopub.status.busy": "2025-06-17T11:00:46.920767Z",
     "iopub.status.idle": "2025-06-17T11:00:46.926190Z",
     "shell.execute_reply": "2025-06-17T11:00:46.925338Z"
    },
    "papermill": {
     "duration": 0.011255,
     "end_time": "2025-06-17T11:00:46.927657",
     "exception": false,
     "start_time": "2025-06-17T11:00:46.916402",
     "status": "completed"
    },
    "tags": []
   },
   "outputs": [
    {
     "data": {
      "text/plain": [
       "(8, 2)"
      ]
     },
     "execution_count": 9,
     "metadata": {},
     "output_type": "execute_result"
    }
   ],
   "source": [
    "dfx.shape"
   ]
  },
  {
   "cell_type": "code",
   "execution_count": 10,
   "id": "5effff39",
   "metadata": {
    "execution": {
     "iopub.execute_input": "2025-06-17T11:00:46.936199Z",
     "iopub.status.busy": "2025-06-17T11:00:46.935889Z",
     "iopub.status.idle": "2025-06-17T11:00:47.235674Z",
     "shell.execute_reply": "2025-06-17T11:00:47.234704Z"
    },
    "papermill": {
     "duration": 0.306106,
     "end_time": "2025-06-17T11:00:47.237647",
     "exception": false,
     "start_time": "2025-06-17T11:00:46.931541",
     "status": "completed"
    },
    "tags": []
   },
   "outputs": [
    {
     "data": {
      "image/png": "[encoded data removed]",
      "text/plain": [
       "<Figure size 1200x600 with 1 Axes>"
      ]
     },
     "metadata": {},
     "output_type": "display_data"
    }
   ],
   "source": [
    "plt.figure(figsize=(12,6))\n",
    "sns.set_style(\"whitegrid\")\n",
    "sns.barplot(data=dfx,x=\"country\",y=\"ai_user_count\",palette=\"Set2\",edgecolor=\"black\")\n",
    "plt.title(\"AI User Classification Per Country\",size=15)\n",
    "plt.xlabel(\"Country\",size=13)\n",
    "plt.ylabel(\"AI User Count\",size=13)\n",
    "plt.tight_layout()\n",
    "plt.show()"
   ]
  }
 ],
 "metadata": {
  "kaggle": {
   "accelerator": "none",
   "dataSources": [
    {
     "datasetId": 7659781,
     "sourceId": 12162388,
     "sourceType": "datasetVersion"
    }
   ],
   "dockerImageVersionId": 31040,
   "isGpuEnabled": false,
   "isInternetEnabled": true,
   "language": "python",
   "sourceType": "notebook"
  },
  "kernelspec": {
   "display_name": "Python 3",
   "language": "python",
   "name": "python3"
  },
  "language_info": {
   "codemirror_mode": {
    "name": "ipython",
    "version": 3
   },
   "file_extension": ".py",
   "mimetype": "text/x-python",
   "name": "python",
   "nbconvert_exporter": "python",
   "pygments_lexer": "ipython3",
   "version": "3.11.11"
  },
  "papermill": {
   "default_parameters": {},
   "duration": 9.89181,
   "end_time": "2025-06-17T11:00:47.963175",
   "environment_variables": {},
   "exception": null,
   "input_path": "__notebook__.ipynb",
   "output_path": "__notebook__.ipynb",
   "parameters": {},
   "start_time": "2025-06-17T11:00:38.071365",
   "version": "2.6.0"
  }
 },
 "nbformat": 4,
 "nbformat_minor": 5
}
